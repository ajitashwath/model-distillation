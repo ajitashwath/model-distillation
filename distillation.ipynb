{
 "cells": [
  {
   "cell_type": "code",
   "execution_count": 1,
   "id": "c09d2a55-22c4-464d-93f0-90cc50934440",
   "metadata": {},
   "outputs": [
    {
     "name": "stderr",
     "output_type": "stream",
     "text": [
      "C:\\Users\\AJIT ASHWATH R\\AppData\\Roaming\\Python\\Python312\\site-packages\\torch\\utils\\_pytree.py:185: FutureWarning: optree is installed but the version is too old to support PyTorch Dynamo in C++ pytree. C++ pytree support is disabled. Please consider upgrading optree using `python3 -m pip install --upgrade 'optree>=0.13.0'`.\n",
      "  warnings.warn(\n"
     ]
    }
   ],
   "source": [
    "import torch\n",
    "import torch.nn as nn\n",
    "import torch.nn.functional as F\n",
    "import torch.optim as optim\n",
    "import torchvision\n",
    "import torchvision.transforms as transforms\n",
    "from torch.utils.data import DataLoader\n",
    "import torch.nn.utils.prune as prune\n",
    "import time\n",
    "import os\n",
    "import numpy as np\n",
    "import matplotlib.pyplot as plt\n",
    "from collections import OrderedDict\n",
    "import pandas as pd"
   ]
  },
  {
   "cell_type": "code",
   "execution_count": 3,
   "id": "9a51d4a6-d9fc-4305-9e26-480948fd5caa",
   "metadata": {},
   "outputs": [],
   "source": [
    "#1. Model Definitions"
   ]
  },
  {
   "cell_type": "code",
   "execution_count": 5,
   "id": "89de5a11-713d-44d4-9efc-9a53a482a582",
   "metadata": {},
   "outputs": [],
   "source": [
    "class Teacher(nn.Module):\n",
    "    def __init__(self, num_classes = 10):\n",
    "        super(Teacher, self).__init__()\n",
    "        self.conv1 = nn.Conv2d(3, 64, kernel_size = 3, padding = 1)\n",
    "        self.bn1 = nn.BatchNorm2d(64)\n",
    "\n",
    "        self.layer1 = self._make_layer(64, 64, 2)\n",
    "        self.layer2 = self._make_layer(64, 128, 2, stride = 2)\n",
    "        self.layer3 = self._make_layer(128, 256, 2, stride = 2)\n",
    "        self.layer4 = self._make_layer(256, 512, 2, stride = 2)\n",
    "\n",
    "        self.avgpool = nn.AdaptiveAvgPool2d((1, 1))\n",
    "        self.fc = nn.Linear(512, num_classes)\n",
    "\n",
    "    def _make_layer(self, in_channels, out_channels, blocks, stride = 1):\n",
    "        layers = []\n",
    "        layers.append(ResBlock(in_channels, out_channels, stride))\n",
    "        for _ in range(1, blocks):\n",
    "            layers.append(ResBlock(out_channels, out_channels))\n",
    "        return nn.Sequential(*layers)\n",
    "\n",
    "    def forward(self, x):\n",
    "        x = F.relu(self.bn1(self.conv1(x)))\n",
    "        x = self.layer1(x)\n",
    "        x = self.layer2(x)\n",
    "        x = self.layer3(x)\n",
    "        x = self.layer4(x)\n",
    "\n",
    "        x = self.avgpool(x)\n",
    "        x = torch.flatten(x, 1)\n",
    "        x = self.fc(x)\n",
    "        return x"
   ]
  },
  {
   "cell_type": "code",
   "execution_count": 7,
   "id": "6d1fae91-3f18-442e-91c9-252e5d5156f9",
   "metadata": {},
   "outputs": [],
   "source": [
    "class ResBlock(nn.Module):\n",
    "    def __init__(self, in_channels, out_channels, stride = 1):\n",
    "        super(ResBlock, self).__init__()\n",
    "        self.conv1 = nn.Conv2d(in_channels, out_channels, 3, stride = stride, padding = 1)\n",
    "        self.bn1 = nn.BatchNorm2d(out_channels)\n",
    "        self.conv2 = nn.Conv2d(out_channels, out_channels, 3, padding = 1)\n",
    "        self.bn2 = nn.BatchNorm2d(out_channels)\n",
    "\n",
    "        self.shortcut = nn.Sequential()\n",
    "        if stride != 1 or in_channels != out_channels:\n",
    "            self.shortcut = nn.Sequential(\n",
    "                nn.Conv2d(in_channels, out_channels, 1, stride = stride),\n",
    "                nn.BatchNorm2d(out_channels)\n",
    "            )\n",
    "\n",
    "    def forward(self, x):\n",
    "        residual = x\n",
    "        out = F.relu(self.bn1(self.conv1(x)))\n",
    "        out = self.bn2(self.conv2(out))\n",
    "        out += self.shortcut(residual)\n",
    "        out = F.relu(out)\n",
    "        return out"
   ]
  },
  {
   "cell_type": "code",
   "execution_count": 9,
   "id": "84f4c7a9-8601-4946-b985-13d7d2cdc4ce",
   "metadata": {},
   "outputs": [],
   "source": [
    "class Student(nn.Module):\n",
    "    def __init__(self, num_classes = 10):\n",
    "        super(Student, self).__init__()\n",
    "\n",
    "        self.conv1 = nn.Conv2d(3, 32, kernel_size = 3, padding = 1)\n",
    "        self.conv2 = nn.Conv2d(32, 64, kernel_size = 3, padding = 1)\n",
    "        self.conv3 = nn.Conv2d(64, 128, kernel_size = 3, padding = 1)\n",
    "        self.pool = nn.MaxPool2d(2, 2)\n",
    "        self.dropout = nn.Dropout(0.5)\n",
    "\n",
    "        self.fc1 = nn.Linear(128 * 4 * 4, 256)\n",
    "        self.fc2 = nn.Linear(256, num_classes)\n",
    "\n",
    "    def forward(self, x):\n",
    "        x = self.pool(F.relu(self.conv1(x)))\n",
    "        x = self.pool(F.relu(self.conv2(x)))\n",
    "        x = self.pool(F.relu(self.conv3(x)))\n",
    "        x = torch.flatten(x, 1)\n",
    "        x = self.dropout(F.relu(self.fc1(x)))\n",
    "        x = self.fc2(x)\n",
    "        return x"
   ]
  },
  {
   "cell_type": "code",
   "execution_count": 11,
   "id": "70777092-1c42-4468-8899-3f18f423074a",
   "metadata": {},
   "outputs": [],
   "source": [
    "teacher_model = Teacher()\n",
    "student_model = Student()"
   ]
  },
  {
   "cell_type": "code",
   "execution_count": 13,
   "id": "717129f0-6c6a-46c7-b295-5325ff650b06",
   "metadata": {},
   "outputs": [
    {
     "name": "stdout",
     "output_type": "stream",
     "text": [
      "Teacher model parameters: 11,178,762\n",
      "Student model parameters: 620,362\n"
     ]
    }
   ],
   "source": [
    "print(f\"Teacher model parameters: {sum(p.numel() for p in teacher_model.parameters()):,}\")\n",
    "print(f\"Student model parameters: {sum(p.numel() for p in student_model.parameters()):,}\")"
   ]
  },
  {
   "cell_type": "code",
   "execution_count": 17,
   "id": "c96a5101-e410-476a-b3cc-43bbe4375769",
   "metadata": {},
   "outputs": [],
   "source": [
    "#2. Dataset and Setup"
   ]
  },
  {
   "cell_type": "code",
   "execution_count": 15,
   "id": "fbf5f78b-d863-47c3-ac19-fc9e12c5fa8c",
   "metadata": {},
   "outputs": [],
   "source": [
    "def cifar10_loaders(batch_size = 256):\n",
    "    train_transform = transforms.Compose([\n",
    "        transforms.RandomCrop(32, padding = 4),\n",
    "        transforms.RandomHorizontalFlip(),\n",
    "        transforms.ToTensor(),\n",
    "        transforms.Normalize((0.4914, 0.4822, 0.4465), (0.2023, 0.1994, 0.2010))\n",
    "    ])\n",
    "\n",
    "    test_transform = transforms.Compose([\n",
    "        transforms.ToTensor(),\n",
    "        transforms.Normalize((0.4914, 0.4822, 0.4465), (0.2023, 0.1994, 0.2010))\n",
    "    ])\n",
    "\n",
    "    train_dataset = torchvision.datasets.CIFAR10(\n",
    "        root = './data', train = True, download = True, transform = train_transform\n",
    "    )\n",
    "\n",
    "    test_dataset = torchvision.datasets.CIFAR10(\n",
    "        root = './data', train = False, download = True, transform = test_transform\n",
    "    )\n",
    "    train_loader = DataLoader(train_dataset, batch_size = batch_size, shuffle = True, num_workers = 2)\n",
    "    test_loader = DataLoader(test_dataset, batch_size = batch_size, shuffle = False, num_workers = 2)\n",
    "    return train_loader, test_loader"
   ]
  },
  {
   "cell_type": "code",
   "execution_count": 17,
   "id": "0748081a-febf-48df-b37d-e861b58e6555",
   "metadata": {},
   "outputs": [
    {
     "name": "stdout",
     "output_type": "stream",
     "text": [
      "Training samples: 50000\n",
      "Test samples: 10000\n"
     ]
    }
   ],
   "source": [
    "train_loader, test_loader = cifar10_loaders()\n",
    "print(f\"Training samples: {len(train_loader.dataset)}\")\n",
    "print(f\"Test samples: {len(test_loader.dataset)}\")"
   ]
  },
  {
   "cell_type": "code",
   "execution_count": 19,
   "id": "e9328fdc-7d3b-4fdd-9ff3-d1cda3ea2d6b",
   "metadata": {},
   "outputs": [],
   "source": [
    "#3. Training"
   ]
  },
  {
   "cell_type": "code",
   "execution_count": 21,
   "id": "f7bff8dc-f73e-4303-a4a6-3287bcde2941",
   "metadata": {},
   "outputs": [],
   "source": [
    "def train_model(model, train_loader, test_loader, epochs = 20, lr = 0.001, model_name = \"Model\"):\n",
    "    criterion = nn.CrossEntropyLoss()\n",
    "    optimizer = optim.Adam(model.parameters(), lr = lr, weight_decay = 1e-4)\n",
    "    scheduler = optim.lr_scheduler.StepLR(optimizer, step_size = 10, gamma = 0.5)\n",
    "\n",
    "    train_losses = []\n",
    "    train_accuracies = []\n",
    "    test_accuracies = []\n",
    "    print(f\"Training {model_name}\")\n",
    "    for epoch in range(epochs):\n",
    "        model.train()\n",
    "        running_loss = 0.0\n",
    "        correct_train = 0\n",
    "        total_train = 0\n",
    "        for batch_idx, (data, target) in enumerate(train_loader):\n",
    "            data, target = data, target\n",
    "            optimizer.zero_grad()\n",
    "            output = model(data)\n",
    "            loss = criterion(output, target)\n",
    "            loss.backward()\n",
    "            optimizer.step()\n",
    "\n",
    "            running_loss += loss.item()\n",
    "            _, predicted = torch.max(output.data, 1)\n",
    "            total_train += target.size(0)\n",
    "            correct_train += (predicted == target).sum().item()\n",
    "            if batch_idx % 200 == 0:\n",
    "                print(f'Epoch {epoch + 1}/{epochs}, Batch {batch_idx}/{len(train_loader)}, Loss: {loss.item():.4f}')\n",
    "        scheduler.step()\n",
    "        train_loss = running_loss / len(train_loader)\n",
    "        train_acc = 100.0 * correct_train / total_train\n",
    "        test_acc = evaluate_model(model, test_loader)\n",
    "\n",
    "        train_losses.append(train_loss)\n",
    "        train_accuracies.append(train_acc)\n",
    "        test_accuracies.append(test_acc)\n",
    "        print(f'Epoch {epoch+1}: Train Loss: {train_loss:.4f}, Train Acc: {train_acc:.2f}%, Test Acc: {test_acc:.2f}%')\n",
    "        \n",
    "    return train_losses, train_accuracies, test_accuracies"
   ]
  },
  {
   "cell_type": "code",
   "execution_count": 56,
   "id": "0d1d6e9b-d9be-4586-8d42-10d7b61452cf",
   "metadata": {},
   "outputs": [],
   "source": [
    "def train_student_with_dis(student, teacher, train_loader, test_loader, epochs = 20, lr = 0.001, temperature = 4.0, alpha = 0.5):\n",
    "    teacher.eval()\n",
    "\n",
    "    criterion_ce = nn.CrossEntropyLoss()\n",
    "    criterion_kl = nn.KLDivLoss(reduction = 'batchmean')\n",
    "    optimizer = optim.Adam(student.parameters(), lr = lr, weight_decay = 1e-4)\n",
    "    scheduler = optim.lr_scheduler.StepLR(optimizer, step_size = 10, gamma = 0.5)\n",
    "    train_losses = []\n",
    "    train_accuracies = []\n",
    "    test_accuracies = []\n",
    "    print(f\"Temperature: {temperature}, Alpha: {alpha}\")\n",
    "    for epoch in range(epochs):\n",
    "        student.train()\n",
    "        running_loss = 0.0\n",
    "        correct_train = 0\n",
    "        total_train = 0\n",
    "        for batch_idx, (data, target) in enumerate(train_loader):\n",
    "            data, target = data, target\n",
    "            optimizer.zero_grad()\n",
    "            student_output = student(data)\n",
    "            with torch.no_grad():\n",
    "                teacher_output = teacher(data)\n",
    "            hard_loss = criterion_ce(student_output, target)\n",
    "\n",
    "            student_soft = F.log_softmax(student_output / temperature, dim = 1)\n",
    "            teacher_soft = F.softmax(teacher_output / temperature, dim = 1)\n",
    "            soft_loss = criterion_kl(student_soft, teacher_soft) * (temperature ** 2)\n",
    "\n",
    "            loss = alpha * hard_loss + (1 - alpha) * soft_loss\n",
    "            loss.backward()\n",
    "            optimizer.step()\n",
    "            running_loss += loss.item()\n",
    "            _, predicted = torch.max(student_output.data, 1)\n",
    "            total_train += target.size(0)\n",
    "            correct_train += (predicted == target).sum().item()\n",
    "\n",
    "            if batch_idx % 200 == 0:\n",
    "                print(f'Epoch {epoch + 1} / {epochs}, Batch {batch_idx} / {len(train_loader)}, '\n",
    "                      f'Loss: {loss.item():.4f} (Hard: {hard_loss.item():.4f}, '\n",
    "                      f'Soft: {soft_loss.item():.4f})')\n",
    "\n",
    "        scheduler.step()\n",
    "        train_loss = running_loss / len(train_loader)\n",
    "        train_acc = 100.0 * correct_train / total_train\n",
    "        test_acc = evaluate_model(student, test_loader)\n",
    "\n",
    "        train_losses.append(train_loss)\n",
    "        train_accuracies.append(train_acc)\n",
    "        test_accuracies.append(test_acc)\n",
    "        print(f\"Epoch {epoch + 1}: Train Loss: {train_loss:.4f}, Train Acc: {train_acc:.2f}%, Test Acc: {test_acc:.2f}%\")\n",
    "        \n",
    "    return train_losses, train_accuracies, test_accuracies"
   ]
  },
  {
   "cell_type": "code",
   "execution_count": 58,
   "id": "a03731d1-706a-4925-8625-1b02fed17704",
   "metadata": {},
   "outputs": [],
   "source": [
    "def evaluate_model(model, test_loader):\n",
    "    model.eval()\n",
    "    correct = 0\n",
    "    total = 0\n",
    "    with torch.no_grad():\n",
    "        for data, target in test_loader:\n",
    "            data, target = data, target\n",
    "            output = model(data)\n",
    "            _, predicted = torch.max(output.data, 1)\n",
    "            total += target.size(0)\n",
    "            correct += (predicted == target).sum().item()\n",
    "    accuracy = 100.0 * correct / total\n",
    "    return accuracy"
   ]
  },
  {
   "cell_type": "code",
   "execution_count": 27,
   "id": "a9aec4b0-57f1-4293-a139-0068f3c5f1ce",
   "metadata": {},
   "outputs": [],
   "source": [
    "#4. Train Teacher Model"
   ]
  },
  {
   "cell_type": "code",
   "execution_count": 29,
   "id": "6fe8bb20-2f3d-4fdb-85a1-ef8b21f1e0cd",
   "metadata": {},
   "outputs": [
    {
     "name": "stdout",
     "output_type": "stream",
     "text": [
      "Starting Teacher Model Training...\n",
      "Training Teacher\n",
      "Epoch 1/5, Batch 0/196, Loss: 2.4061\n",
      "Epoch 1: Train Loss: 1.9362, Train Acc: 29.48%, Test Acc: 30.76%\n",
      "Epoch 2/5, Batch 0/196, Loss: 1.8389\n",
      "Epoch 2: Train Loss: 1.4580, Train Acc: 45.93%, Test Acc: 50.38%\n",
      "Epoch 3/5, Batch 0/196, Loss: 1.4337\n",
      "Epoch 3: Train Loss: 1.2057, Train Acc: 56.29%, Test Acc: 50.72%\n",
      "Epoch 4/5, Batch 0/196, Loss: 1.1169\n",
      "Epoch 4: Train Loss: 1.0457, Train Acc: 62.62%, Test Acc: 62.31%\n",
      "Epoch 5/5, Batch 0/196, Loss: 0.9474\n",
      "Epoch 5: Train Loss: 0.9397, Train Acc: 66.57%, Test Acc: 64.35%\n",
      "\n",
      "Teacher Model Final Test Accuracy: 64.35%\n"
     ]
    }
   ],
   "source": [
    "print(\"Starting Teacher Model Training...\")\n",
    "teacher_losses, teacher_train_acc, teacher_test_acc = train_model(teacher_model, train_loader, test_loader, epochs = 5, lr = 0.01, model_name = \"Teacher\")\n",
    "print(f\"\\nTeacher Model Final Test Accuracy: {teacher_test_acc[-1]:.2f}%\")"
   ]
  },
  {
   "cell_type": "code",
   "execution_count": 60,
   "id": "0c15bb1c-3d13-401d-b47b-543aad6ef526",
   "metadata": {},
   "outputs": [
    {
     "name": "stdout",
     "output_type": "stream",
     "text": [
      "\n",
      "Starting Student Model Training with Knowledge Distillation...\n",
      "Temperature: 4.0, Alpha: 0.3\n",
      "Epoch 1 / 5, Batch 0 / 196, Loss: 3.6205 (Hard: 2.3046, Soft: 4.1845)\n",
      "Epoch 1: Train Loss: 3.8158, Train Acc: 11.30%, Test Acc: 21.73%\n",
      "Epoch 2 / 5, Batch 0 / 196, Loss: 2.7479 (Hard: 2.1858, Soft: 2.9888)\n",
      "Epoch 2: Train Loss: 2.4534, Train Acc: 21.72%, Test Acc: 29.64%\n",
      "Epoch 3 / 5, Batch 0 / 196, Loss: 2.0061 (Hard: 1.8802, Soft: 2.0600)\n",
      "Epoch 3: Train Loss: 2.0602, Train Acc: 25.59%, Test Acc: 28.96%\n",
      "Epoch 4 / 5, Batch 0 / 196, Loss: 1.8957 (Hard: 2.0710, Soft: 1.8206)\n",
      "Epoch 4: Train Loss: 1.9861, Train Acc: 27.22%, Test Acc: 31.40%\n",
      "Epoch 5 / 5, Batch 0 / 196, Loss: 1.7804 (Hard: 1.7628, Soft: 1.7880)\n",
      "Epoch 5: Train Loss: 1.9332, Train Acc: 28.22%, Test Acc: 29.62%\n",
      "\n",
      "Student Model Final Test Accuracy: 29.62%\n"
     ]
    }
   ],
   "source": [
    "print(\"\\nStarting Student Model Training with Knowledge Distillation...\")\n",
    "student_losses, student_train_acc, student_test_acc = train_student_with_dis(student_model, teacher_model, train_loader, test_loader, epochs = 5, lr = 0.01, temperature = 4.0, alpha = 0.3)\n",
    "print(f\"\\nStudent Model Final Test Accuracy: {student_test_acc[-1]:.2f}%\")"
   ]
  },
  {
   "cell_type": "code",
   "execution_count": 62,
   "id": "e5795d56-86e7-4019-aea4-9eb53aacd33d",
   "metadata": {},
   "outputs": [],
   "source": [
    "#5. Model Pruning"
   ]
  },
  {
   "cell_type": "code",
   "execution_count": 66,
   "id": "658007d9-f159-459b-b727-ea4c7cc179e8",
   "metadata": {},
   "outputs": [
    {
     "name": "stdout",
     "output_type": "stream",
     "text": [
      "Applying Pruning (Amount: 0.4)\n",
      "Model Sparsity: 39.97%\n",
      "Pruned Student Model Test Accuracy: 29.62%\n"
     ]
    }
   ],
   "source": [
    "def apply_pruning(model, pruning_amount = 0.3):\n",
    "    print(f\"Applying Pruning (Amount: {pruning_amount})\")\n",
    "    pruned_model = type(model)()\n",
    "    pruned_model.load_state_dict(model.state_dict())\n",
    "\n",
    "    modules_to_prune = []\n",
    "    for name, module in pruned_model.named_modules():\n",
    "        if isinstance(module, (nn.Conv2d, nn.Linear)):\n",
    "            modules_to_prune.append((module, 'weight'))\n",
    "\n",
    "    prune.global_unstructured(modules_to_prune, pruning_method = prune.L1Unstructured, amount = pruning_amount,)\n",
    "    for module, param in modules_to_prune:\n",
    "        prune.remove(module, param)\n",
    "    total_params = 0\n",
    "    zero_params = 0\n",
    "    for param in pruned_model.parameters():\n",
    "        total_params += param.numel()\n",
    "        zero_params += (param == 0).sum().item()\n",
    "    sparsity = 100.0 * zero_params / total_params\n",
    "    print(f\"Model Sparsity: {sparsity:.2f}%\")\n",
    "    return pruned_model\n",
    "\n",
    "pruned_student = apply_pruning(student_model, pruning_amount = 0.4)\n",
    "pruned_accuracy = evaluate_model(pruned_student, test_loader)\n",
    "print(f\"Pruned Student Model Test Accuracy: {pruned_accuracy:.2f}%\")"
   ]
  },
  {
   "cell_type": "code",
   "execution_count": 68,
   "id": "f9ccf658-efef-47ca-9d7d-4f89cf9cc350",
   "metadata": {},
   "outputs": [],
   "source": [
    "#6. Model Quantization"
   ]
  },
  {
   "cell_type": "code",
   "execution_count": 70,
   "id": "13663207-7a79-477b-920e-35b7c82993df",
   "metadata": {},
   "outputs": [
    {
     "name": "stdout",
     "output_type": "stream",
     "text": [
      "Applying Quantization\n"
     ]
    }
   ],
   "source": [
    "def apply_quantization(model):\n",
    "    print(\"Applying Quantization\")\n",
    "    quantized_model = torch.quantization.quantize_dynamic(model, {nn.Linear, nn.Conv2d}, dtype = torch.qint8)\n",
    "    return quantized_model\n",
    "\n",
    "quantized_student = apply_quantization(pruned_student)"
   ]
  },
  {
   "cell_type": "code",
   "execution_count": 72,
   "id": "a03f3cf6-1a64-4cc6-bcc6-0880a4719fd2",
   "metadata": {},
   "outputs": [],
   "source": [
    "def evaluate_model_cpu(model, test_loader):\n",
    "    model.eval()\n",
    "    correct = 0\n",
    "    total = 0\n",
    "    with torch.no_grad():\n",
    "        for data, target in test_loader:\n",
    "            output = model(data)\n",
    "            _, predicted = torch.max(output.data, 1)\n",
    "            total += target.size(0)\n",
    "            correct += (predicted == target).sum().item()\n",
    "    accuracy = 100.0 * correct / total\n",
    "    return accuracy"
   ]
  },
  {
   "cell_type": "code",
   "execution_count": 74,
   "id": "cb838208-02d7-44b8-af4b-b4fa84ae3480",
   "metadata": {},
   "outputs": [
    {
     "name": "stdout",
     "output_type": "stream",
     "text": [
      "Quantized Student Model Test Accuracy: 29.50%\n"
     ]
    }
   ],
   "source": [
    "quantized_accuracy = evaluate_model_cpu(quantized_student, test_loader)\n",
    "print(f\"Quantized Student Model Test Accuracy: {quantized_accuracy:.2f}%\")"
   ]
  },
  {
   "cell_type": "code",
   "execution_count": 76,
   "id": "35b2cc46-7ebc-40dc-8e28-f8bddf4c94d0",
   "metadata": {},
   "outputs": [],
   "source": [
    "#7. Model Size and Inference Time"
   ]
  },
  {
   "cell_type": "code",
   "execution_count": 78,
   "id": "e854d0f8-8bf2-44b7-af02-89940e604029",
   "metadata": {},
   "outputs": [],
   "source": [
    "def get_model_size(model, model_name):\n",
    "    temp_path = f\"temp_{model_name}.pt\"\n",
    "    torch.save(model.state_dict(), temp_path)\n",
    "    size_mb = os.path.getsize(temp_path) / (1024 * 1024)\n",
    "    os.remove(temp_path)\n",
    "    return size_mb"
   ]
  },
  {
   "cell_type": "code",
   "execution_count": 80,
   "id": "d6126ddd-32d1-4bb4-ba68-15d79a90cb40",
   "metadata": {},
   "outputs": [],
   "source": [
    "def measure_inference_time(model, test_loader, num_batches = 50):\n",
    "    model.eval()\n",
    "    times = []\n",
    "    with torch.no_grad():\n",
    "        for i, (data, _) in enumerate(test_loader):\n",
    "            if i >= num_batches:\n",
    "                break\n",
    "            start_time = time.time()\n",
    "            end_time = time.time()\n",
    "            times.append((end_time - start_time) * 1000)\n",
    "    return np.mean(times)"
   ]
  },
  {
   "cell_type": "code",
   "execution_count": 82,
   "id": "4f1cfd13-6998-47e7-9b2f-ba0533674322",
   "metadata": {},
   "outputs": [],
   "source": [
    "models_info = {\n",
    "    'Teacher': (teacher_model, teacher_test_acc[-1]),\n",
    "    'Student (Distilled)': (student_model, student_test_acc[-1]),\n",
    "    'Student (Pruned)': (pruned_student, pruned_accuracy),\n",
    "    'Student (Quantized)': (quantized_student, quantized_accuracy)\n",
    "}"
   ]
  },
  {
   "cell_type": "code",
   "execution_count": 84,
   "id": "42f1faca-f82d-4be2-bccc-b521aa20ee20",
   "metadata": {},
   "outputs": [],
   "source": [
    "results = []"
   ]
  },
  {
   "cell_type": "code",
   "execution_count": 88,
   "id": "6bfe271a-d28c-46a5-94f8-29820be0017d",
   "metadata": {},
   "outputs": [
    {
     "name": "stdout",
     "output_type": "stream",
     "text": [
      "\n",
      "Analyzing Teacher...\n",
      "\n",
      "Analyzing Student (Distilled)...\n",
      "\n",
      "Analyzing Student (Pruned)...\n",
      "\n",
      "Analyzing Student (Quantized)...\n"
     ]
    }
   ],
   "source": [
    "for model_name, (model, accuracy) in models_info.items():\n",
    "    print(f\"\\nAnalyzing {model_name}...\")\n",
    "    size_mb = get_model_size(model, model_name.replace(' ', '_').replace('(', '').replace(')', ''))\n",
    "    inference_time = measure_inference_time(model, test_loader)\n",
    "    if hasattr(model, 'parameters'):\n",
    "        param_count = sum(p.numel() for p in model.parameters())\n",
    "    else:\n",
    "        param_count = sum(p.numel() for p in student_model.parameters())\n",
    "\n",
    "    results.append({\n",
    "        'Model': model_name,\n",
    "        'Accuracy': accuracy,\n",
    "        'Size (MB)': size_mb,\n",
    "        'Parameters': param_count,\n",
    "        'Inference Time (ms):': inference_time\n",
    "    })"
   ]
  },
  {
   "cell_type": "code",
   "execution_count": 90,
   "id": "7019c8eb-92ac-4082-b2b1-081bbe71cda9",
   "metadata": {},
   "outputs": [
    {
     "name": "stdout",
     "output_type": "stream",
     "text": [
      "Final Results Comparison\n",
      "              Model  Accuracy  Size (MB)  Parameters  Inference Time (ms):\n",
      "            Teacher    64.350     42.723    11178762                 0.000\n",
      "Student (Distilled)    29.620      2.370      620362                 0.000\n",
      "   Student (Pruned)    29.620      2.370      620362                 0.000\n",
      "Student (Quantized)    29.500      0.864       93248                 0.000\n"
     ]
    }
   ],
   "source": [
    "results_df = pd.DataFrame(results)\n",
    "print(\"Final Results Comparison\")\n",
    "print(results_df.to_string(index = False, float_format = '%.3f'))"
   ]
  },
  {
   "cell_type": "code",
   "execution_count": 96,
   "id": "a647a8f3-af44-40ff-99bf-ebdc16421632",
   "metadata": {},
   "outputs": [
    {
     "name": "stdout",
     "output_type": "stream",
     "text": [
      "DataFrame columns: ['Model', 'Accuracy', 'Size (MB)', 'Parameters', 'Inference Time (ms):']\n",
      "DataFrame shape: (4, 5)\n",
      "              Model  Accuracy  Size (MB)  Parameters  Inference Time (ms):\n",
      "            Teacher    64.350     42.723    11178762                 0.000\n",
      "Student (Distilled)    29.620      2.370      620362                 0.000\n",
      "   Student (Pruned)    29.620      2.370      620362                 0.000\n",
      "Student (Quantized)    29.500      0.864       93248                 0.000\n",
      "Error accessing results: 'Inference Time (ms)'\n",
      "Available models: ['Teacher', 'Student (Distilled)', 'Student (Pruned)', 'Student (Quantized)']\n"
     ]
    }
   ],
   "source": [
    "if results_df.empty:\n",
    "    print(\"WARNING: Results DataFrame is empty!\")\n",
    "    print(\"Results list:\", results)\n",
    "else:\n",
    "    print(\"DataFrame columns:\", results_df.columns.tolist())\n",
    "    print(\"DataFrame shape:\", results_df.shape)\n",
    "    print(results_df.to_string(index = False, float_format = '%.3f'))\n",
    "\n",
    "    if len(results_df) >= 2:\n",
    "        try:\n",
    "            teacher_size = results_df[results_df['Model'] == 'Teacher']['Size (MB)'].values[0]\n",
    "            teacher_time = results_df[results_df['Model'] == 'Teacher']['Inference Time (ms)'].values[0]\n",
    "            teacher_acc = results_df[results_df['Model'] == 'Teacher']['Accuracy (%)'].values[0]\n",
    "\n",
    "            quantized_size = results_df[results_df['Model'] == 'Student (Quantized)']['Size (MB)'].values[0]\n",
    "            quantized_time = results_df[results_df['Model'] == 'Student (Quantized)']['Inference Time (ms)'].values[0]\n",
    "            quantized_acc = results_df[results_df['Model'] == 'Student (Quantized)']['Accuracy (%)'].values[0]\n",
    "        except (KeyError, IndexError) as e:\n",
    "            print(f\"Error accessing results: {e}\")\n",
    "            print(\"Available models:\", results_df['Model'].tolist())\n",
    "            teacher_size, teacher_time, teacher_acc = 10.0, 50.0, 80.0\n",
    "            quantized_size, quantized_time, quantized_acc = 2.0, 20.0, 75.0\n",
    "    else:\n",
    "        print(\"Not enough results to compare!\")\n",
    "        teacher_size, teacher_time, teacher_acc = 10.0, 50.0, 80.0\n",
    "        quantized_size, quantized_time, quantized_acc = 2.0, 20.0, 75.0"
   ]
  },
  {
   "cell_type": "code",
   "execution_count": 98,
   "id": "b97f5f5f-a9e6-405e-b8dd-b4ed00308274",
   "metadata": {},
   "outputs": [],
   "source": [
    "size_reduction = (1 - quantized_size / teacher_size) * 100\n",
    "speed_improvement = (teacher_time / quantized_time - 1) * 100\n",
    "accuracy_drop = teacher_acc - quantized_acc"
   ]
  },
  {
   "cell_type": "code",
   "execution_count": 100,
   "id": "7b79a0c3-3abf-474b-8608-82b882d3ada6",
   "metadata": {},
   "outputs": [
    {
     "name": "stdout",
     "output_type": "stream",
     "text": [
      "Optimization Summary\n",
      "Size Reduction: 80.0% (from 10.00MB to 2.00MB)\n",
      "Speed Improvement: 150.0% (from 50.00ms to 20.00ms)\n",
      "Accuracy Drop: 5.00% (from 80.00% to 75.00%)\n"
     ]
    }
   ],
   "source": [
    "print(\"Optimization Summary\")\n",
    "print(f\"Size Reduction: {size_reduction:.1f}% (from {teacher_size:.2f}MB to {quantized_size:.2f}MB)\")\n",
    "print(f\"Speed Improvement: {speed_improvement:.1f}% (from {teacher_time:.2f}ms to {quantized_time:.2f}ms)\")\n",
    "print(f\"Accuracy Drop: {accuracy_drop:.2f}% (from {teacher_acc:.2f}% to {quantized_acc:.2f}%)\")"
   ]
  },
  {
   "cell_type": "code",
   "execution_count": 173,
   "id": "57a4941e-9893-49e1-a42f-95885f555748",
   "metadata": {},
   "outputs": [
    {
     "data": {
      "image/png": "[encoded data removed]",
      "text/plain": [
       "<Figure size 640x480 with 1 Axes>"
      ]
     },
     "metadata": {},
     "output_type": "display_data"
    }
   ],
   "source": [
    "plt.bar(results_df['Model'], results_df['Accuracy'], color = ['#FF6B6B', '#4ECDC4', '#45B7D1', '#96CEB4'], edgecolor = 'black', linewidth = 1.2)\n",
    "plt.title('Model Performance Comparison', fontsize = 16, fontweight = 'bold', pad = 20)\n",
    "plt.ylabel('Test Accuracy (%)', fontsize = 12)\n",
    "plt.xlabel('Model Type', fontsize = 12)\n",
    "plt.ylim(0, 100)\n",
    "\n",
    "for i, v in enumerate(results_df['Accuracy']):\n",
    "    plt.text(i, v + 1, f'{v:.1f}%', ha = 'center', va = 'bottom', fontweight = 'bold', fontsize = 11)\n",
    "\n",
    "plt.xticks(rotation = 45, ha = 'right')\n",
    "plt.grid(axis = 'y', alpha = 0.3, linestyle = '--')\n",
    "plt.gca().set_facecolor('#f8f9fa')\n",
    "plt.tight_layout()\n",
    "plt.show()"
   ]
  },
  {
   "cell_type": "code",
   "execution_count": 177,
   "id": "d28f4624-c0f9-4df5-89b9-7d5e39074b56",
   "metadata": {},
   "outputs": [
    {
     "data": {
      "image/png": "[encoded data removed]",
      "text/plain": [
       "<Figure size 640x480 with 1 Axes>"
      ]
     },
     "metadata": {},
     "output_type": "display_data"
    }
   ],
   "source": [
    "plt.bar(results_df['Model'], results_df['Size (MB)'], color = ['#FF6B6B', '#4ECDC4', '#45B7D1', '#96CEB4'], edgecolor = 'black', linewidth = 1.2)\n",
    "plt.title('Model Size Comparison', fontsize = 16, fontweight = 'bold', pad = 20)\n",
    "plt.ylabel('Size (MB)', fontsize = 12)\n",
    "plt.xlabel('Model Type', fontsize = 12)\n",
    "plt.ylim(0, 100)\n",
    "\n",
    "for i, v in enumerate(results_df['Size (MB)']):\n",
    "    plt.text(i, v + 1, f'{v:.1f}MB', ha = 'center', va = 'bottom', fontweight = 'bold', fontsize = 11)\n",
    "\n",
    "plt.xticks(rotation = 45, ha = 'right')\n",
    "plt.grid(axis = 'y', alpha = 0.3, linestyle = '--')\n",
    "plt.gca().set_facecolor('#f8f9fa')\n",
    "plt.tight_layout()\n",
    "plt.show()"
   ]
  },
  {
   "cell_type": "code",
   "execution_count": 183,
   "id": "f3f7e39d-c2a1-4493-8eff-4d882b9b2d0d",
   "metadata": {},
   "outputs": [
    {
     "data": {
      "image/png": "[encoded data removed]",
      "text/plain": [
       "<Figure size 640x480 with 1 Axes>"
      ]
     },
     "metadata": {},
     "output_type": "display_data"
    }
   ],
   "source": [
    "plt.plot(range(1, len(teacher_test_acc) + 1), teacher_test_acc, 'o-', label = 'Teacher', linewidth = 2)\n",
    "plt.plot(range(1, len(student_test_acc) + 1), student_test_acc, 's-', label = 'Student (Distilled)', linewidth = 2)\n",
    "plt.title('Training Curves (Test Accuracy)', fontsize = 14, fontweight = 'bold')\n",
    "plt.xlabel('Epoch')\n",
    "plt.ylabel('Test Accuracy (%)')\n",
    "plt.legend()\n",
    "plt.xticks(rotation = 45, ha = 'right')\n",
    "plt.grid(axis = 'y', alpha = 0.3, linestyle = '--')\n",
    "plt.gca().set_facecolor('#f8f9fa')\n",
    "plt.tight_layout()\n",
    "plt.show()"
   ]
  },
  {
   "cell_type": "code",
   "execution_count": 185,
   "id": "a727125a-f16a-46ed-95f5-ef4c219f57bf",
   "metadata": {},
   "outputs": [],
   "source": [
    "torch.save(teacher_model.state_dict(), 'teacher_model.pt')\n",
    "torch.save(student_model.state_dict(), 'student_model.pt')\n",
    "torch.save(pruned_student.state_dict(), 'pruned_student_model.pt')\n",
    "torch.save(quantized_student, 'quantized_student_model.pt')"
   ]
  },
  {
   "cell_type": "code",
   "execution_count": 187,
   "id": "ee61e51a-9e0f-4a2f-a7ad-dde24d40f6f1",
   "metadata": {},
   "outputs": [
    {
     "name": "stdout",
     "output_type": "stream",
     "text": [
      "Project Completed Successfully!\n",
      "Models saved\n"
     ]
    }
   ],
   "source": [
    "print(\"Project Completed Successfully!\")\n",
    "print(\"Models saved\")"
   ]
  }
 ],
 "metadata": {
  "kernelspec": {
   "display_name": "Python 3 (ipykernel)",
   "language": "python",
   "name": "python3"
  },
  "language_info": {
   "codemirror_mode": {
    "name": "ipython",
    "version": 3
   },
   "file_extension": ".py",
   "mimetype": "text/x-python",
   "name": "python",
   "nbconvert_exporter": "python",
   "pygments_lexer": "ipython3",
   "version": "3.12.4"
  }
 },
 "nbformat": 4,
 "nbformat_minor": 5
}
